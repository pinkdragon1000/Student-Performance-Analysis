{
 "cells": [
  {
   "cell_type": "markdown",
   "metadata": {},
   "source": [
    "<center><h3> Student Performance in Exams </h3>\n",
    "\n",
    "<img src='https://student.unsw.edu.au/sites/all/files/styles/inline_image/public/page_image/unsw-exam-preparation-tips.gif' height=100, width=100>\n",
    "<br>\n",
    "<a href='https://www.kaggle.com/spscientist/students-performance-in-exams'> <button style='background-color: black; color: white;'>Click Here for the Dataset </button> </a> <p> Background: Includes scores on tests for a couple college students</p>\n",
    "\n",
    "\n",
    "</center>\n"
   ]
  },
  {
   "cell_type": "markdown",
   "metadata": {},
   "source": [
    "**A. Data Loading and Preparation**"
   ]
  },
  {
   "cell_type": "markdown",
   "metadata": {},
   "source": [
    "Importing libraries"
   ]
  },
  {
   "cell_type": "code",
   "execution_count": 1,
   "metadata": {},
   "outputs": [
    {
     "name": "stderr",
     "output_type": "stream",
     "text": [
      "Warning message:\n",
      "\"package 'ggplot2' was built under R version 3.4.4\"Warning message:\n",
      "\"package 'dplyr' was built under R version 3.4.4\"\n",
      "Attaching package: 'dplyr'\n",
      "\n",
      "The following objects are masked from 'package:stats':\n",
      "\n",
      "    filter, lag\n",
      "\n",
      "The following objects are masked from 'package:base':\n",
      "\n",
      "    intersect, setdiff, setequal, union\n",
      "\n",
      "randomForest 4.6-12\n",
      "Type rfNews() to see new features/changes/bug fixes.\n",
      "\n",
      "Attaching package: 'randomForest'\n",
      "\n",
      "The following object is masked from 'package:dplyr':\n",
      "\n",
      "    combine\n",
      "\n",
      "The following object is masked from 'package:ggplot2':\n",
      "\n",
      "    margin\n",
      "\n"
     ]
    }
   ],
   "source": [
    "library(ggplot2)\n",
    "library(dplyr)\n",
    "#install.packages('randomForest')\n",
    "library('randomForest')"
   ]
  },
  {
   "cell_type": "markdown",
   "metadata": {},
   "source": [
    "Reading in file"
   ]
  },
  {
   "cell_type": "code",
   "execution_count": 2,
   "metadata": {
    "scrolled": true
   },
   "outputs": [],
   "source": [
    "df<-read.csv('StudentsPerformance.csv', stringsAsFactors = FALSE)"
   ]
  },
  {
   "cell_type": "markdown",
   "metadata": {},
   "source": [
    "Finding out how many rows and columns there are in the dataset"
   ]
  },
  {
   "cell_type": "code",
   "execution_count": 3,
   "metadata": {},
   "outputs": [
    {
     "data": {
      "text/html": [
       "1000"
      ],
      "text/latex": [
       "1000"
      ],
      "text/markdown": [
       "1000"
      ],
      "text/plain": [
       "[1] 1000"
      ]
     },
     "metadata": {},
     "output_type": "display_data"
    },
    {
     "data": {
      "text/html": [
       "8"
      ],
      "text/latex": [
       "8"
      ],
      "text/markdown": [
       "8"
      ],
      "text/plain": [
       "[1] 8"
      ]
     },
     "metadata": {},
     "output_type": "display_data"
    }
   ],
   "source": [
    "nrow(df)\n",
    "ncol(df)"
   ]
  },
  {
   "cell_type": "markdown",
   "metadata": {},
   "source": [
    "* There are 1000 rows and 8 columns"
   ]
  },
  {
   "cell_type": "markdown",
   "metadata": {},
   "source": [
    "First 6 rows of data"
   ]
  },
  {
   "cell_type": "code",
   "execution_count": 4,
   "metadata": {},
   "outputs": [
    {
     "data": {
      "text/html": [
       "<table>\n",
       "<thead><tr><th scope=col>gender</th><th scope=col>race.ethnicity</th><th scope=col>parental.level.of.education</th><th scope=col>lunch</th><th scope=col>test.preparation.course</th><th scope=col>math.score</th><th scope=col>reading.score</th><th scope=col>writing.score</th></tr></thead>\n",
       "<tbody>\n",
       "\t<tr><td>female            </td><td>group B           </td><td>bachelor's degree </td><td>standard          </td><td>none              </td><td>72                </td><td>72                </td><td>74                </td></tr>\n",
       "\t<tr><td>female            </td><td>group C           </td><td>some college      </td><td>standard          </td><td>completed         </td><td>69                </td><td>90                </td><td>88                </td></tr>\n",
       "\t<tr><td>female            </td><td>group B           </td><td>master's degree   </td><td>standard          </td><td>none              </td><td>90                </td><td>95                </td><td>93                </td></tr>\n",
       "\t<tr><td>male              </td><td>group A           </td><td>associate's degree</td><td>free/reduced      </td><td>none              </td><td>47                </td><td>57                </td><td>44                </td></tr>\n",
       "\t<tr><td>male              </td><td>group C           </td><td>some college      </td><td>standard          </td><td>none              </td><td>76                </td><td>78                </td><td>75                </td></tr>\n",
       "\t<tr><td>female            </td><td>group B           </td><td>associate's degree</td><td>standard          </td><td>none              </td><td>71                </td><td>83                </td><td>78                </td></tr>\n",
       "</tbody>\n",
       "</table>\n"
      ],
      "text/latex": [
       "\\begin{tabular}{r|llllllll}\n",
       " gender & race.ethnicity & parental.level.of.education & lunch & test.preparation.course & math.score & reading.score & writing.score\\\\\n",
       "\\hline\n",
       "\t female             & group B            & bachelor's degree  & standard           & none               & 72                 & 72                 & 74                \\\\\n",
       "\t female             & group C            & some college       & standard           & completed          & 69                 & 90                 & 88                \\\\\n",
       "\t female             & group B            & master's degree    & standard           & none               & 90                 & 95                 & 93                \\\\\n",
       "\t male               & group A            & associate's degree & free/reduced       & none               & 47                 & 57                 & 44                \\\\\n",
       "\t male               & group C            & some college       & standard           & none               & 76                 & 78                 & 75                \\\\\n",
       "\t female             & group B            & associate's degree & standard           & none               & 71                 & 83                 & 78                \\\\\n",
       "\\end{tabular}\n"
      ],
      "text/markdown": [
       "\n",
       "gender | race.ethnicity | parental.level.of.education | lunch | test.preparation.course | math.score | reading.score | writing.score | \n",
       "|---|---|---|---|---|---|\n",
       "| female             | group B            | bachelor's degree  | standard           | none               | 72                 | 72                 | 74                 | \n",
       "| female             | group C            | some college       | standard           | completed          | 69                 | 90                 | 88                 | \n",
       "| female             | group B            | master's degree    | standard           | none               | 90                 | 95                 | 93                 | \n",
       "| male               | group A            | associate's degree | free/reduced       | none               | 47                 | 57                 | 44                 | \n",
       "| male               | group C            | some college       | standard           | none               | 76                 | 78                 | 75                 | \n",
       "| female             | group B            | associate's degree | standard           | none               | 71                 | 83                 | 78                 | \n",
       "\n",
       "\n"
      ],
      "text/plain": [
       "  gender race.ethnicity parental.level.of.education lunch       \n",
       "1 female group B        bachelor's degree           standard    \n",
       "2 female group C        some college                standard    \n",
       "3 female group B        master's degree             standard    \n",
       "4 male   group A        associate's degree          free/reduced\n",
       "5 male   group C        some college                standard    \n",
       "6 female group B        associate's degree          standard    \n",
       "  test.preparation.course math.score reading.score writing.score\n",
       "1 none                    72         72            74           \n",
       "2 completed               69         90            88           \n",
       "3 none                    90         95            93           \n",
       "4 none                    47         57            44           \n",
       "5 none                    76         78            75           \n",
       "6 none                    71         83            78           "
      ]
     },
     "metadata": {},
     "output_type": "display_data"
    }
   ],
   "source": [
    "head(df)"
   ]
  },
  {
   "cell_type": "markdown",
   "metadata": {},
   "source": [
    "Column data types"
   ]
  },
  {
   "cell_type": "code",
   "execution_count": 5,
   "metadata": {},
   "outputs": [
    {
     "data": {
      "text/html": [
       "<dl class=dl-horizontal>\n",
       "\t<dt>gender</dt>\n",
       "\t\t<dd>'character'</dd>\n",
       "\t<dt>race.ethnicity</dt>\n",
       "\t\t<dd>'character'</dd>\n",
       "\t<dt>parental.level.of.education</dt>\n",
       "\t\t<dd>'character'</dd>\n",
       "\t<dt>lunch</dt>\n",
       "\t\t<dd>'character'</dd>\n",
       "\t<dt>test.preparation.course</dt>\n",
       "\t\t<dd>'character'</dd>\n",
       "\t<dt>math.score</dt>\n",
       "\t\t<dd>'integer'</dd>\n",
       "\t<dt>reading.score</dt>\n",
       "\t\t<dd>'integer'</dd>\n",
       "\t<dt>writing.score</dt>\n",
       "\t\t<dd>'integer'</dd>\n",
       "</dl>\n"
      ],
      "text/latex": [
       "\\begin{description*}\n",
       "\\item[gender] 'character'\n",
       "\\item[race.ethnicity] 'character'\n",
       "\\item[parental.level.of.education] 'character'\n",
       "\\item[lunch] 'character'\n",
       "\\item[test.preparation.course] 'character'\n",
       "\\item[math.score] 'integer'\n",
       "\\item[reading.score] 'integer'\n",
       "\\item[writing.score] 'integer'\n",
       "\\end{description*}\n"
      ],
      "text/markdown": [
       "gender\n",
       ":   'character'race.ethnicity\n",
       ":   'character'parental.level.of.education\n",
       ":   'character'lunch\n",
       ":   'character'test.preparation.course\n",
       ":   'character'math.score\n",
       ":   'integer'reading.score\n",
       ":   'integer'writing.score\n",
       ":   'integer'\n",
       "\n"
      ],
      "text/plain": [
       "                     gender              race.ethnicity \n",
       "                \"character\"                 \"character\" \n",
       "parental.level.of.education                       lunch \n",
       "                \"character\"                 \"character\" \n",
       "    test.preparation.course                  math.score \n",
       "                \"character\"                   \"integer\" \n",
       "              reading.score               writing.score \n",
       "                  \"integer\"                   \"integer\" "
      ]
     },
     "metadata": {},
     "output_type": "display_data"
    }
   ],
   "source": [
    "sapply(df, class)"
   ]
  },
  {
   "cell_type": "markdown",
   "metadata": {},
   "source": [
    "Checking nulls in data"
   ]
  },
  {
   "cell_type": "code",
   "execution_count": 6,
   "metadata": {},
   "outputs": [
    {
     "data": {
      "text/html": [
       "<dl class=dl-horizontal>\n",
       "\t<dt>gender</dt>\n",
       "\t\t<dd>0</dd>\n",
       "\t<dt>race.ethnicity</dt>\n",
       "\t\t<dd>0</dd>\n",
       "\t<dt>parental.level.of.education</dt>\n",
       "\t\t<dd>0</dd>\n",
       "\t<dt>lunch</dt>\n",
       "\t\t<dd>0</dd>\n",
       "\t<dt>test.preparation.course</dt>\n",
       "\t\t<dd>0</dd>\n",
       "\t<dt>math.score</dt>\n",
       "\t\t<dd>0</dd>\n",
       "\t<dt>reading.score</dt>\n",
       "\t\t<dd>0</dd>\n",
       "\t<dt>writing.score</dt>\n",
       "\t\t<dd>0</dd>\n",
       "</dl>\n"
      ],
      "text/latex": [
       "\\begin{description*}\n",
       "\\item[gender] 0\n",
       "\\item[race.ethnicity] 0\n",
       "\\item[parental.level.of.education] 0\n",
       "\\item[lunch] 0\n",
       "\\item[test.preparation.course] 0\n",
       "\\item[math.score] 0\n",
       "\\item[reading.score] 0\n",
       "\\item[writing.score] 0\n",
       "\\end{description*}\n"
      ],
      "text/markdown": [
       "gender\n",
       ":   0race.ethnicity\n",
       ":   0parental.level.of.education\n",
       ":   0lunch\n",
       ":   0test.preparation.course\n",
       ":   0math.score\n",
       ":   0reading.score\n",
       ":   0writing.score\n",
       ":   0\n",
       "\n"
      ],
      "text/plain": [
       "                     gender              race.ethnicity \n",
       "                          0                           0 \n",
       "parental.level.of.education                       lunch \n",
       "                          0                           0 \n",
       "    test.preparation.course                  math.score \n",
       "                          0                           0 \n",
       "              reading.score               writing.score \n",
       "                          0                           0 "
      ]
     },
     "metadata": {},
     "output_type": "display_data"
    }
   ],
   "source": [
    "sapply(df, function(x) sum(is.na(x)))"
   ]
  },
  {
   "cell_type": "markdown",
   "metadata": {},
   "source": [
    "* There are no nulls in the dataset"
   ]
  },
  {
   "cell_type": "markdown",
   "metadata": {},
   "source": [
    "Summary Statistics"
   ]
  },
  {
   "cell_type": "code",
   "execution_count": 7,
   "metadata": {},
   "outputs": [
    {
     "data": {
      "text/plain": [
       "    gender          race.ethnicity     parental.level.of.education\n",
       " Length:1000        Length:1000        Length:1000                \n",
       " Class :character   Class :character   Class :character           \n",
       " Mode  :character   Mode  :character   Mode  :character           \n",
       "                                                                  \n",
       "                                                                  \n",
       "                                                                  \n",
       "    lunch           test.preparation.course   math.score     reading.score   \n",
       " Length:1000        Length:1000             Min.   :  0.00   Min.   : 17.00  \n",
       " Class :character   Class :character        1st Qu.: 57.00   1st Qu.: 59.00  \n",
       " Mode  :character   Mode  :character        Median : 66.00   Median : 70.00  \n",
       "                                            Mean   : 66.09   Mean   : 69.17  \n",
       "                                            3rd Qu.: 77.00   3rd Qu.: 79.00  \n",
       "                                            Max.   :100.00   Max.   :100.00  \n",
       " writing.score   \n",
       " Min.   : 10.00  \n",
       " 1st Qu.: 57.75  \n",
       " Median : 69.00  \n",
       " Mean   : 68.05  \n",
       " 3rd Qu.: 79.00  \n",
       " Max.   :100.00  "
      ]
     },
     "metadata": {},
     "output_type": "display_data"
    }
   ],
   "source": [
    "summary(df)"
   ]
  },
  {
   "cell_type": "markdown",
   "metadata": {},
   "source": [
    "* From the summary statistics above we can see that the max for reading, math, and writing scores was 100.  The minimum for math was 0, 17 for reading, and 10 for writing.  "
   ]
  },
  {
   "cell_type": "markdown",
   "metadata": {},
   "source": [
    "<hr>"
   ]
  },
  {
   "cell_type": "markdown",
   "metadata": {},
   "source": [
    "**B. Exploratory Data Analysis (EDA)**"
   ]
  },
  {
   "cell_type": "markdown",
   "metadata": {},
   "source": [
    "Now let's look more in depth into the columns and the values in them"
   ]
  },
  {
   "cell_type": "markdown",
   "metadata": {},
   "source": [
    "##### *Univariate Analysis*"
   ]
  },
  {
   "cell_type": "markdown",
   "metadata": {},
   "source": [
    " **I. Gender**"
   ]
  },
  {
   "cell_type": "code",
   "execution_count": 8,
   "metadata": {
    "scrolled": true
   },
   "outputs": [
    {
     "data": {
      "text/html": [
       "<table>\n",
       "<thead><tr><th scope=col>Gender</th><th scope=col>Freq</th><th scope=col>Percentage</th></tr></thead>\n",
       "<tbody>\n",
       "\t<tr><td>female </td><td>518    </td><td>51.8 % </td></tr>\n",
       "\t<tr><td>male   </td><td>482    </td><td>48.2 % </td></tr>\n",
       "</tbody>\n",
       "</table>\n"
      ],
      "text/latex": [
       "\\begin{tabular}{r|lll}\n",
       " Gender & Freq & Percentage\\\\\n",
       "\\hline\n",
       "\t female    & 518       & 51.8 \\% \\\\\n",
       "\t male      & 482       & 48.2 \\% \\\\\n",
       "\\end{tabular}\n"
      ],
      "text/markdown": [
       "\n",
       "Gender | Freq | Percentage | \n",
       "|---|---|\n",
       "| female  | 518     | 51.8 %  | \n",
       "| male    | 482     | 48.2 %  | \n",
       "\n",
       "\n"
      ],
      "text/plain": [
       "  Gender Freq Percentage\n",
       "1 female 518  51.8 %    \n",
       "2 male   482  48.2 %    "
      ]
     },
     "metadata": {},
     "output_type": "display_data"
    }
   ],
   "source": [
    "gender<-as.data.frame(table('Gender'=df$gender))\n",
    "gender$Percentage<-(gender$Freq/sum(gender$Freq))*100\n",
    "gender$Percentage<- paste(as.character(gender$Percentage), '%', '')\n",
    "gender"
   ]
  },
  {
   "cell_type": "code",
   "execution_count": 9,
   "metadata": {},
   "outputs": [
    {
     "data": {},
     "metadata": {},
     "output_type": "display_data"
    },
    {
     "data": {
      "image/png": "[encoded data removed]",
      "text/plain": [
       "plot without title"
      ]
     },
     "metadata": {},
     "output_type": "display_data"
    }
   ],
   "source": [
    "p<-ggplot(data=gender, aes(x=Gender, y=Freq, color=Gender)) +geom_bar(stat=\"identity\", fill=\"white\")+\n",
    "geom_text(aes(label=Freq), vjust=1.6,position = position_dodge(0.9), size=3.5)+\n",
    "geom_text(aes(label=Percentage), vjust=4.6, position = position_dodge(0.9), size=3.5)\n",
    "p"
   ]
  },
  {
   "cell_type": "markdown",
   "metadata": {},
   "source": [
    "<div class=\"alert alert-success\">\n",
    "\n",
    "**Sub-Section I Conclusion**\n",
    "* There are more females (51.8%) than men (48.2%) in this dataset. \n",
    "\n",
    "</div>"
   ]
  },
  {
   "cell_type": "markdown",
   "metadata": {},
   "source": [
    "<hr>"
   ]
  },
  {
   "cell_type": "markdown",
   "metadata": {},
   "source": [
    "<strong>II. Test scores </strong>"
   ]
  },
  {
   "cell_type": "markdown",
   "metadata": {},
   "source": [
    "* Getting the average scores"
   ]
  },
  {
   "cell_type": "code",
   "execution_count": 10,
   "metadata": {},
   "outputs": [
    {
     "data": {
      "text/html": [
       "69.169"
      ],
      "text/latex": [
       "69.169"
      ],
      "text/markdown": [
       "69.169"
      ],
      "text/plain": [
       "[1] 69.169"
      ]
     },
     "metadata": {},
     "output_type": "display_data"
    }
   ],
   "source": [
    "avread<-mean(df$reading.score,trim = 0, na.rm = FALSE)\n",
    "avread"
   ]
  },
  {
   "cell_type": "code",
   "execution_count": 11,
   "metadata": {},
   "outputs": [
    {
     "data": {
      "text/html": [
       "68.054"
      ],
      "text/latex": [
       "68.054"
      ],
      "text/markdown": [
       "68.054"
      ],
      "text/plain": [
       "[1] 68.054"
      ]
     },
     "metadata": {},
     "output_type": "display_data"
    }
   ],
   "source": [
    "avwriting<-mean(df$writing.score,trim = 0, na.rm = FALSE)\n",
    "avwriting"
   ]
  },
  {
   "cell_type": "code",
   "execution_count": 12,
   "metadata": {},
   "outputs": [
    {
     "data": {
      "text/html": [
       "66.089"
      ],
      "text/latex": [
       "66.089"
      ],
      "text/markdown": [
       "66.089"
      ],
      "text/plain": [
       "[1] 66.089"
      ]
     },
     "metadata": {},
     "output_type": "display_data"
    }
   ],
   "source": [
    "avmath<-mean(df$math.score,trim = 0, na.rm = FALSE)\n",
    "avmath"
   ]
  },
  {
   "cell_type": "markdown",
   "metadata": {},
   "source": [
    "<div class=\"alert alert-success\">\n",
    "\n",
    "**Sub-Section II Conclusion**\n",
    "* On average in this dataset it seems that students performed the best in the reading section followed by writing and math.\n",
    "* All three test types had the max score of 100 (summary statistics above).  \n",
    "* In all categories of tests the average performed above 50%\n",
    "* The minimum for math was 0, 17 for reading, and 10 for writing (summary statistics above).\n",
    "</div>\n"
   ]
  },
  {
   "cell_type": "markdown",
   "metadata": {},
   "source": [
    "<hr>"
   ]
  },
  {
   "cell_type": "markdown",
   "metadata": {},
   "source": [
    "**III. Parental Level of Education**"
   ]
  },
  {
   "cell_type": "code",
   "execution_count": 13,
   "metadata": {
    "scrolled": true
   },
   "outputs": [
    {
     "data": {
      "text/html": [
       "<table>\n",
       "<thead><tr><th scope=col>Parental.Education</th><th scope=col>Freq</th><th scope=col>Percentage</th></tr></thead>\n",
       "<tbody>\n",
       "\t<tr><td>some college      </td><td>226               </td><td>22.6 %            </td></tr>\n",
       "\t<tr><td>associate's degree</td><td>222               </td><td>22.2 %            </td></tr>\n",
       "\t<tr><td>high school       </td><td>196               </td><td>19.6 %            </td></tr>\n",
       "\t<tr><td>some high school  </td><td>179               </td><td>17.9 %            </td></tr>\n",
       "\t<tr><td>bachelor's degree </td><td>118               </td><td>11.8 %            </td></tr>\n",
       "\t<tr><td>master's degree   </td><td> 59               </td><td>5.9 %             </td></tr>\n",
       "</tbody>\n",
       "</table>\n"
      ],
      "text/latex": [
       "\\begin{tabular}{r|lll}\n",
       " Parental.Education & Freq & Percentage\\\\\n",
       "\\hline\n",
       "\t some college       & 226                & 22.6 \\%          \\\\\n",
       "\t associate's degree & 222                & 22.2 \\%          \\\\\n",
       "\t high school        & 196                & 19.6 \\%          \\\\\n",
       "\t some high school   & 179                & 17.9 \\%          \\\\\n",
       "\t bachelor's degree  & 118                & 11.8 \\%          \\\\\n",
       "\t master's degree    &  59                & 5.9 \\%           \\\\\n",
       "\\end{tabular}\n"
      ],
      "text/markdown": [
       "\n",
       "Parental.Education | Freq | Percentage | \n",
       "|---|---|---|---|---|---|\n",
       "| some college       | 226                | 22.6 %             | \n",
       "| associate's degree | 222                | 22.2 %             | \n",
       "| high school        | 196                | 19.6 %             | \n",
       "| some high school   | 179                | 17.9 %             | \n",
       "| bachelor's degree  | 118                | 11.8 %             | \n",
       "| master's degree    |  59                | 5.9 %              | \n",
       "\n",
       "\n"
      ],
      "text/plain": [
       "  Parental.Education Freq Percentage\n",
       "1 some college       226  22.6 %    \n",
       "2 associate's degree 222  22.2 %    \n",
       "3 high school        196  19.6 %    \n",
       "4 some high school   179  17.9 %    \n",
       "5 bachelor's degree  118  11.8 %    \n",
       "6 master's degree     59  5.9 %     "
      ]
     },
     "metadata": {},
     "output_type": "display_data"
    }
   ],
   "source": [
    "parented<-as.data.frame(table('Parental Education'=df$parental.level.of.education))\n",
    "parented<-parented[order(parented$Freq, decreasing=TRUE),]\n",
    "rownames(parented)<-1:nrow(parented)\n",
    "parented$Percentage<-(parented$Freq/sum(parented$Freq))*100\n",
    "parented$Percentage<- paste(as.character(parented$Percentage), '%', '')\n",
    "parented"
   ]
  },
  {
   "cell_type": "markdown",
   "metadata": {},
   "source": [
    "<div class=\"alert alert-success\">\n",
    "\n",
    "**Sub-Section III Conclusion**\n",
    "* Most of the parents only completed some of college and associate degrees followed descending by high school, some high school, bachelor's degree and master's degree. \n",
    "\n",
    "</div>"
   ]
  },
  {
   "cell_type": "markdown",
   "metadata": {},
   "source": [
    "<hr>"
   ]
  },
  {
   "cell_type": "markdown",
   "metadata": {},
   "source": [
    "**IV. Race Group Frequencies**"
   ]
  },
  {
   "cell_type": "code",
   "execution_count": 14,
   "metadata": {},
   "outputs": [
    {
     "name": "stdout",
     "output_type": "stream",
     "text": [
      "[1] \"Race Group Frequencies\"\n"
     ]
    },
    {
     "data": {
      "text/html": [
       "<table>\n",
       "<thead><tr><th scope=col>Ethnicity</th><th scope=col>Freq</th><th scope=col>Percentage</th></tr></thead>\n",
       "<tbody>\n",
       "\t<tr><td>group C</td><td>319    </td><td>31.9 % </td></tr>\n",
       "\t<tr><td>group D</td><td>262    </td><td>26.2 % </td></tr>\n",
       "\t<tr><td>group B</td><td>190    </td><td>19 %   </td></tr>\n",
       "\t<tr><td>group E</td><td>140    </td><td>14 %   </td></tr>\n",
       "\t<tr><td>group A</td><td> 89    </td><td>8.9 %  </td></tr>\n",
       "</tbody>\n",
       "</table>\n"
      ],
      "text/latex": [
       "\\begin{tabular}{r|lll}\n",
       " Ethnicity & Freq & Percentage\\\\\n",
       "\\hline\n",
       "\t group C   & 319       & 31.9 \\% \\\\\n",
       "\t group D   & 262       & 26.2 \\% \\\\\n",
       "\t group B   & 190       & 19 \\%   \\\\\n",
       "\t group E   & 140       & 14 \\%   \\\\\n",
       "\t group A   &  89       & 8.9 \\%  \\\\\n",
       "\\end{tabular}\n"
      ],
      "text/markdown": [
       "\n",
       "Ethnicity | Freq | Percentage | \n",
       "|---|---|---|---|---|\n",
       "| group C | 319     | 31.9 %  | \n",
       "| group D | 262     | 26.2 %  | \n",
       "| group B | 190     | 19 %    | \n",
       "| group E | 140     | 14 %    | \n",
       "| group A |  89     | 8.9 %   | \n",
       "\n",
       "\n"
      ],
      "text/plain": [
       "  Ethnicity Freq Percentage\n",
       "1 group C   319  31.9 %    \n",
       "2 group D   262  26.2 %    \n",
       "3 group B   190  19 %      \n",
       "4 group E   140  14 %      \n",
       "5 group A    89  8.9 %     "
      ]
     },
     "metadata": {},
     "output_type": "display_data"
    }
   ],
   "source": [
    "print(\"Race Group Frequencies\")\n",
    "raceeth<-as.data.frame(table('Ethnicity'=df$race.ethnicity))\n",
    "raceeth<- raceeth[order(raceeth$Freq, decreasing=TRUE),]\n",
    "rownames(raceeth)<-1:nrow(raceeth)\n",
    "raceeth$Percentage<-(raceeth$Freq/sum(raceeth$Freq))*100\n",
    "raceeth$Percentage<- paste(as.character(raceeth$Percentage), '%', '')\n",
    "raceeth"
   ]
  },
  {
   "cell_type": "code",
   "execution_count": 15,
   "metadata": {},
   "outputs": [
    {
     "data": {},
     "metadata": {},
     "output_type": "display_data"
    },
    {
     "data": {
      "image/png": "[encoded data removed]",
      "text/plain": [
       "plot without title"
      ]
     },
     "metadata": {},
     "output_type": "display_data"
    }
   ],
   "source": [
    "p<-ggplot(data=raceeth, aes(x=Ethnicity, y=Freq, color=Ethnicity)) +geom_bar(stat=\"identity\", fill=\"white\")+\n",
    "geom_text(aes(label=Freq), vjust=1.6,position = position_dodge(0.9), size=3.5)+\n",
    "geom_text(aes(label=Percentage), vjust=4.6, position = position_dodge(0.9), size=3.5)\n",
    "p"
   ]
  },
  {
   "cell_type": "markdown",
   "metadata": {},
   "source": [
    "<div class=\"alert alert-success\">\n",
    "\n",
    "**Sub-Section IV Conclusion**\n",
    "* The most people falled under Group C (31.9%)followed by D (26.2%), B (19%), E (14%), and A (8.9%)\n",
    "\n",
    "</div>"
   ]
  },
  {
   "cell_type": "markdown",
   "metadata": {},
   "source": [
    "<hr>"
   ]
  },
  {
   "cell_type": "markdown",
   "metadata": {},
   "source": [
    "**V. Did Students do Test Prep. Beforehand?**"
   ]
  },
  {
   "cell_type": "code",
   "execution_count": 16,
   "metadata": {},
   "outputs": [
    {
     "name": "stdout",
     "output_type": "stream",
     "text": [
      "[1] \"Test Prep\"\n"
     ]
    },
    {
     "data": {
      "text/html": [
       "<table>\n",
       "<thead><tr><th scope=col>Test.Prep.Completed</th><th scope=col>Freq</th><th scope=col>Percentage</th></tr></thead>\n",
       "<tbody>\n",
       "\t<tr><td>none     </td><td>642      </td><td>64.20 %  </td></tr>\n",
       "\t<tr><td>completed</td><td>358      </td><td>35.80 %  </td></tr>\n",
       "</tbody>\n",
       "</table>\n"
      ],
      "text/latex": [
       "\\begin{tabular}{r|lll}\n",
       " Test.Prep.Completed & Freq & Percentage\\\\\n",
       "\\hline\n",
       "\t none       & 642        & 64.20 \\% \\\\\n",
       "\t completed  & 358        & 35.80 \\% \\\\\n",
       "\\end{tabular}\n"
      ],
      "text/markdown": [
       "\n",
       "Test.Prep.Completed | Freq | Percentage | \n",
       "|---|---|\n",
       "| none      | 642       | 64.20 %   | \n",
       "| completed | 358       | 35.80 %   | \n",
       "\n",
       "\n"
      ],
      "text/plain": [
       "  Test.Prep.Completed Freq Percentage\n",
       "1 none                642  64.20 %   \n",
       "2 completed           358  35.80 %   "
      ]
     },
     "metadata": {},
     "output_type": "display_data"
    }
   ],
   "source": [
    "print(\"Test Prep\")\n",
    "testprep<-as.data.frame(table('Test Prep Completed'=df$test.preparation.course))\n",
    "testprep$Percentage<-(testprep$Freq/sum(testprep$Freq))*100\n",
    "testprep<-testprep[order(testprep$Freq, decreasing=TRUE),]\n",
    "rownames(testprep)<-1:nrow(testprep)\n",
    "testprep$Percentage<-format(round(testprep$Percentage, 2), nsmall = 2)\n",
    "testprep$Percentage<- paste(as.character(testprep$Percentage), '%', '')\n",
    "testprep"
   ]
  },
  {
   "cell_type": "code",
   "execution_count": 17,
   "metadata": {},
   "outputs": [
    {
     "data": {},
     "metadata": {},
     "output_type": "display_data"
    },
    {
     "data": {
      "image/png": "[encoded data removed]",
      "text/plain": [
       "plot without title"
      ]
     },
     "metadata": {},
     "output_type": "display_data"
    }
   ],
   "source": [
    "p<-ggplot(data=testprep, aes(x=Test.Prep.Completed, y=Freq, color=Test.Prep.Completed)) +geom_bar(stat=\"identity\", fill=\"white\")+\n",
    "geom_text(aes(label=Freq), vjust=1.6,position = position_dodge(0.9), size=3.5)+\n",
    "geom_text(aes(label=Percentage), vjust=4.6, position = position_dodge(0.9), size=3.5)\n",
    "p"
   ]
  },
  {
   "cell_type": "markdown",
   "metadata": {},
   "source": [
    "<div class=\"alert alert-success\">\n",
    "\n",
    "**Sub-Section V Conclusion**\n",
    "* Significantly more students did no test prep (64.20%) than did test prep (35.80%). \n",
    "\n",
    "</div>"
   ]
  },
  {
   "cell_type": "markdown",
   "metadata": {},
   "source": [
    "<hr>"
   ]
  },
  {
   "cell_type": "markdown",
   "metadata": {},
   "source": [
    "**VI. Are more students on the standard lunch plan or free/reduced?**"
   ]
  },
  {
   "cell_type": "code",
   "execution_count": 18,
   "metadata": {},
   "outputs": [
    {
     "data": {
      "text/html": [
       "<table>\n",
       "<thead><tr><th scope=col>Lunch.Plan</th><th scope=col>Freq</th><th scope=col>Percentage</th></tr></thead>\n",
       "<tbody>\n",
       "\t<tr><td>free/reduced</td><td>355         </td><td>35.50 %     </td></tr>\n",
       "\t<tr><td>standard    </td><td>645         </td><td>64.50 %     </td></tr>\n",
       "</tbody>\n",
       "</table>\n"
      ],
      "text/latex": [
       "\\begin{tabular}{r|lll}\n",
       " Lunch.Plan & Freq & Percentage\\\\\n",
       "\\hline\n",
       "\t free/reduced & 355          & 35.50 \\%   \\\\\n",
       "\t standard     & 645          & 64.50 \\%   \\\\\n",
       "\\end{tabular}\n"
      ],
      "text/markdown": [
       "\n",
       "Lunch.Plan | Freq | Percentage | \n",
       "|---|---|\n",
       "| free/reduced | 355          | 35.50 %      | \n",
       "| standard     | 645          | 64.50 %      | \n",
       "\n",
       "\n"
      ],
      "text/plain": [
       "  Lunch.Plan   Freq Percentage\n",
       "1 free/reduced 355  35.50 %   \n",
       "2 standard     645  64.50 %   "
      ]
     },
     "metadata": {},
     "output_type": "display_data"
    }
   ],
   "source": [
    "lunch<-as.data.frame(table(\"Lunch Plan\"=df$lunch))\n",
    "lunch$Percentage<-(lunch$Freq/sum(lunch$Freq))*100\n",
    "lunch$Percentage<-format(round(lunch$Percentage, 2), nsmall = 2)\n",
    "lunch$Percentage<- paste(as.character(lunch$Percentage), '%', '')\n",
    "lunch"
   ]
  },
  {
   "cell_type": "code",
   "execution_count": 19,
   "metadata": {},
   "outputs": [
    {
     "data": {},
     "metadata": {},
     "output_type": "display_data"
    },
    {
     "data": {
      "image/png": "[encoded data removed]",
      "text/plain": [
       "plot without title"
      ]
     },
     "metadata": {},
     "output_type": "display_data"
    }
   ],
   "source": [
    "p<-ggplot(data=lunch, aes(x=Lunch.Plan, y=Freq, color=Lunch.Plan)) +geom_bar(stat=\"identity\", fill=\"white\")+\n",
    "geom_text(aes(label=Freq), vjust=1.6,position = position_dodge(0.9), size=3.5)+\n",
    "geom_text(aes(label=Percentage), vjust=4.6, position = position_dodge(0.9), size=3.5)\n",
    "p"
   ]
  },
  {
   "cell_type": "markdown",
   "metadata": {},
   "source": [
    "<div class=\"alert alert-success\">\n",
    "\n",
    "**Sub-Section VI Conclusion**\n",
    "* More students in this dataset eat standard lunches (64.5%) rather than free or reduced lunches (35.5%).\n",
    "\n",
    "</div>"
   ]
  },
  {
   "cell_type": "markdown",
   "metadata": {},
   "source": [
    "#### *Multivariate Analysis*"
   ]
  },
  {
   "cell_type": "markdown",
   "metadata": {},
   "source": [
    "**I. Comparing Race and Test Scores**"
   ]
  },
  {
   "cell_type": "code",
   "execution_count": 20,
   "metadata": {},
   "outputs": [
    {
     "data": {
      "text/html": [
       "<table>\n",
       "<thead><tr><th scope=col>race.ethnicity</th><th scope=col>Avg.Math.Race</th><th scope=col>Avg.Reading.Race</th><th scope=col>Avg.Writing.Race</th></tr></thead>\n",
       "<tbody>\n",
       "\t<tr><td>group A </td><td>61.63 % </td><td>64.67 % </td><td>62.67 % </td></tr>\n",
       "\t<tr><td>group B </td><td>63.45 % </td><td>67.35 % </td><td>65.60 % </td></tr>\n",
       "\t<tr><td>group C </td><td>64.46 % </td><td>69.10 % </td><td>67.83 % </td></tr>\n",
       "\t<tr><td>group D </td><td>67.36 % </td><td>70.03 % </td><td>70.15 % </td></tr>\n",
       "\t<tr><td>group E </td><td>73.82 % </td><td>73.03 % </td><td>71.41 % </td></tr>\n",
       "</tbody>\n",
       "</table>\n"
      ],
      "text/latex": [
       "\\begin{tabular}{r|llll}\n",
       " race.ethnicity & Avg.Math.Race & Avg.Reading.Race & Avg.Writing.Race\\\\\n",
       "\\hline\n",
       "\t group A    & 61.63 \\%  & 64.67 \\%  & 62.67 \\% \\\\\n",
       "\t group B    & 63.45 \\%  & 67.35 \\%  & 65.60 \\% \\\\\n",
       "\t group C    & 64.46 \\%  & 69.10 \\%  & 67.83 \\% \\\\\n",
       "\t group D    & 67.36 \\%  & 70.03 \\%  & 70.15 \\% \\\\\n",
       "\t group E    & 73.82 \\%  & 73.03 \\%  & 71.41 \\% \\\\\n",
       "\\end{tabular}\n"
      ],
      "text/markdown": [
       "\n",
       "race.ethnicity | Avg.Math.Race | Avg.Reading.Race | Avg.Writing.Race | \n",
       "|---|---|---|---|---|\n",
       "| group A  | 61.63 %  | 64.67 %  | 62.67 %  | \n",
       "| group B  | 63.45 %  | 67.35 %  | 65.60 %  | \n",
       "| group C  | 64.46 %  | 69.10 %  | 67.83 %  | \n",
       "| group D  | 67.36 %  | 70.03 %  | 70.15 %  | \n",
       "| group E  | 73.82 %  | 73.03 %  | 71.41 %  | \n",
       "\n",
       "\n"
      ],
      "text/plain": [
       "  race.ethnicity Avg.Math.Race Avg.Reading.Race Avg.Writing.Race\n",
       "1 group A        61.63 %       64.67 %          62.67 %         \n",
       "2 group B        63.45 %       67.35 %          65.60 %         \n",
       "3 group C        64.46 %       69.10 %          67.83 %         \n",
       "4 group D        67.36 %       70.03 %          70.15 %         \n",
       "5 group E        73.82 %       73.03 %          71.41 %         "
      ]
     },
     "metadata": {},
     "output_type": "display_data"
    }
   ],
   "source": [
    "racescores<-df %>% group_by(race.ethnicity)\n",
    "racescores<-racescores %>% summarise(\n",
    "  Avg.Math.Race = mean(math.score),\n",
    "  Avg.Reading.Race = mean(reading.score),\n",
    "  Avg.Writing.Race = mean(writing.score)\n",
    ")\n",
    "racescores$Avg.Math.Race<-format(round(racescores$Avg.Math.Race, 2), nsmall = 2)\n",
    "racescores$Avg.Reading.Race<-format(round(racescores$Avg.Reading.Race, 2), nsmall = 2)\n",
    "racescores$Avg.Writing.Race<-format(round(racescores$Avg.Writing.Race, 2), nsmall = 2)\n",
    "racescores$Avg.Math.Race<- paste(as.character(racescores$Avg.Math.Race), '%', '')\n",
    "racescores$Avg.Reading.Race<- paste(as.character(racescores$Avg.Reading.Race), '%', '')\n",
    "racescores$Avg.Writing.Race<- paste(as.character(racescores$Avg.Writing.Race), '%', '')\n",
    "racescores"
   ]
  },
  {
   "cell_type": "markdown",
   "metadata": {},
   "source": [
    "* Group E had the highest average scores in all three categories.\n",
    "* Group A had the lowest average scores in all three categories."
   ]
  },
  {
   "cell_type": "markdown",
   "metadata": {},
   "source": [
    "**II. Comparing Lunch Plans and Test Scores**"
   ]
  },
  {
   "cell_type": "code",
   "execution_count": 21,
   "metadata": {},
   "outputs": [
    {
     "data": {
      "text/html": [
       "<table>\n",
       "<thead><tr><th scope=col>lunch</th><th scope=col>Avg.Math.Lunch</th><th scope=col>Avg.Reading.Lunch</th><th scope=col>Avg.Writing.Lunch</th></tr></thead>\n",
       "<tbody>\n",
       "\t<tr><td>free/reduced</td><td>58.92 %     </td><td>64.65 %     </td><td>63.02 %     </td></tr>\n",
       "\t<tr><td>standard    </td><td>70.03 %     </td><td>71.65 %     </td><td>70.82 %     </td></tr>\n",
       "</tbody>\n",
       "</table>\n"
      ],
      "text/latex": [
       "\\begin{tabular}{r|llll}\n",
       " lunch & Avg.Math.Lunch & Avg.Reading.Lunch & Avg.Writing.Lunch\\\\\n",
       "\\hline\n",
       "\t free/reduced & 58.92 \\%    & 64.65 \\%    & 63.02 \\%   \\\\\n",
       "\t standard     & 70.03 \\%    & 71.65 \\%    & 70.82 \\%   \\\\\n",
       "\\end{tabular}\n"
      ],
      "text/markdown": [
       "\n",
       "lunch | Avg.Math.Lunch | Avg.Reading.Lunch | Avg.Writing.Lunch | \n",
       "|---|---|\n",
       "| free/reduced | 58.92 %      | 64.65 %      | 63.02 %      | \n",
       "| standard     | 70.03 %      | 71.65 %      | 70.82 %      | \n",
       "\n",
       "\n"
      ],
      "text/plain": [
       "  lunch        Avg.Math.Lunch Avg.Reading.Lunch Avg.Writing.Lunch\n",
       "1 free/reduced 58.92 %        64.65 %           63.02 %          \n",
       "2 standard     70.03 %        71.65 %           70.82 %          "
      ]
     },
     "metadata": {},
     "output_type": "display_data"
    }
   ],
   "source": [
    "lunchscores<-df %>% group_by(lunch)\n",
    "lunchscores<-lunchscores %>% summarise(\n",
    "  Avg.Math.Lunch = mean(math.score),\n",
    "  Avg.Reading.Lunch = mean(reading.score),\n",
    "  Avg.Writing.Lunch = mean(writing.score)\n",
    ")\n",
    "lunchscores$Avg.Math.Lunch<-format(round(lunchscores$Avg.Math.Lunch, 2), nsmall = 2)\n",
    "lunchscores$Avg.Reading.Lunch<-format(round(lunchscores$Avg.Reading.Lunch, 2), nsmall = 2)\n",
    "lunchscores$Avg.Writing.Lunch<-format(round(lunchscores$Avg.Writing.Lunch, 2), nsmall = 2)\n",
    "lunchscores$Avg.Math.Lunch<- paste(as.character(lunchscores$Avg.Math.Lunch), '%', '')\n",
    "lunchscores$Avg.Reading.Lunch<- paste(as.character(lunchscores$Avg.Reading.Lunch), '%', '')\n",
    "lunchscores$Avg.Writing.Lunch<- paste(as.character(lunchscores$Avg.Writing.Lunch), '%', '')\n",
    "lunchscores"
   ]
  },
  {
   "cell_type": "markdown",
   "metadata": {},
   "source": [
    "* The average scores for writing, reading, and math were significantly better for students on the standard plan but that may also be because in this dataset there are more students overall getting standard lunches (64.5%) over free/reduced lunch plans (35.5%). "
   ]
  },
  {
   "cell_type": "markdown",
   "metadata": {},
   "source": [
    "**III. Comparing Whether a Student Prepared and Test Scores**"
   ]
  },
  {
   "cell_type": "code",
   "execution_count": 22,
   "metadata": {},
   "outputs": [
    {
     "data": {
      "text/html": [
       "<table>\n",
       "<thead><tr><th scope=col>test.preparation.course</th><th scope=col>Avg.Math.Prep</th><th scope=col>Avg.Reading.Prep</th><th scope=col>Avg.Writing.Prep</th></tr></thead>\n",
       "<tbody>\n",
       "\t<tr><td>completed</td><td>69.70 %  </td><td>73.89 %  </td><td>74.42 %  </td></tr>\n",
       "\t<tr><td>none     </td><td>64.08 %  </td><td>66.53 %  </td><td>64.50 %  </td></tr>\n",
       "</tbody>\n",
       "</table>\n"
      ],
      "text/latex": [
       "\\begin{tabular}{r|llll}\n",
       " test.preparation.course & Avg.Math.Prep & Avg.Reading.Prep & Avg.Writing.Prep\\\\\n",
       "\\hline\n",
       "\t completed  & 69.70 \\%  & 73.89 \\%  & 74.42 \\% \\\\\n",
       "\t none       & 64.08 \\%  & 66.53 \\%  & 64.50 \\% \\\\\n",
       "\\end{tabular}\n"
      ],
      "text/markdown": [
       "\n",
       "test.preparation.course | Avg.Math.Prep | Avg.Reading.Prep | Avg.Writing.Prep | \n",
       "|---|---|\n",
       "| completed | 69.70 %   | 73.89 %   | 74.42 %   | \n",
       "| none      | 64.08 %   | 66.53 %   | 64.50 %   | \n",
       "\n",
       "\n"
      ],
      "text/plain": [
       "  test.preparation.course Avg.Math.Prep Avg.Reading.Prep Avg.Writing.Prep\n",
       "1 completed               69.70 %       73.89 %          74.42 %         \n",
       "2 none                    64.08 %       66.53 %          64.50 %         "
      ]
     },
     "metadata": {},
     "output_type": "display_data"
    }
   ],
   "source": [
    "prepscores<-df %>% group_by(test.preparation.course)\n",
    "prepscores<-prepscores %>% summarise(\n",
    "  Avg.Math.Prep = mean(math.score),\n",
    "  Avg.Reading.Prep = mean(reading.score),\n",
    "  Avg.Writing.Prep = mean(writing.score)\n",
    ")\n",
    "prepscores$Avg.Math.Prep<-format(round(prepscores$Avg.Math.Prep, 2), nsmall = 2)\n",
    "prepscores$Avg.Reading.Prep<-format(round(prepscores$Avg.Reading.Prep, 2), nsmall = 2)\n",
    "prepscores$Avg.Writing.Prep<-format(round(prepscores$Avg.Writing.Prep, 2), nsmall = 2)\n",
    "prepscores$Avg.Math.Prep<- paste(as.character(prepscores$Avg.Math.Prep), '%', '')\n",
    "prepscores$Avg.Reading.Prep<- paste(as.character(prepscores$Avg.Reading.Prep), '%', '')\n",
    "prepscores$Avg.Writing.Prep<- paste(as.character(prepscores$Avg.Writing.Prep), '%', '')\n",
    "prepscores"
   ]
  },
  {
   "cell_type": "markdown",
   "metadata": {},
   "source": [
    "**IV. Comparing the Level of Parental Education to Student Test Scores**"
   ]
  },
  {
   "cell_type": "code",
   "execution_count": 23,
   "metadata": {
    "scrolled": true
   },
   "outputs": [
    {
     "data": {
      "text/html": [
       "<table>\n",
       "<thead><tr><th scope=col>parental.level.of.education</th><th scope=col>Avg.Math.ParentEd</th><th scope=col>Avg.Reading.ParentEd</th><th scope=col>Avg.Writing.ParentEd</th></tr></thead>\n",
       "<tbody>\n",
       "\t<tr><td>associate's degree</td><td>67.88 %           </td><td>70.93 %           </td><td>69.90 %           </td></tr>\n",
       "\t<tr><td>bachelor's degree </td><td>69.39 %           </td><td>73.00 %           </td><td>73.38 %           </td></tr>\n",
       "\t<tr><td>high school       </td><td>62.14 %           </td><td>64.70 %           </td><td>62.45 %           </td></tr>\n",
       "\t<tr><td>master's degree   </td><td>69.75 %           </td><td>75.37 %           </td><td>75.68 %           </td></tr>\n",
       "\t<tr><td>some college      </td><td>67.13 %           </td><td>69.46 %           </td><td>68.84 %           </td></tr>\n",
       "\t<tr><td>some high school  </td><td>63.50 %           </td><td>66.94 %           </td><td>64.89 %           </td></tr>\n",
       "</tbody>\n",
       "</table>\n"
      ],
      "text/latex": [
       "\\begin{tabular}{r|llll}\n",
       " parental.level.of.education & Avg.Math.ParentEd & Avg.Reading.ParentEd & Avg.Writing.ParentEd\\\\\n",
       "\\hline\n",
       "\t associate's degree & 67.88 \\%          & 70.93 \\%          & 69.90 \\%         \\\\\n",
       "\t bachelor's degree  & 69.39 \\%          & 73.00 \\%          & 73.38 \\%         \\\\\n",
       "\t high school        & 62.14 \\%          & 64.70 \\%          & 62.45 \\%         \\\\\n",
       "\t master's degree    & 69.75 \\%          & 75.37 \\%          & 75.68 \\%         \\\\\n",
       "\t some college       & 67.13 \\%          & 69.46 \\%          & 68.84 \\%         \\\\\n",
       "\t some high school   & 63.50 \\%          & 66.94 \\%          & 64.89 \\%         \\\\\n",
       "\\end{tabular}\n"
      ],
      "text/markdown": [
       "\n",
       "parental.level.of.education | Avg.Math.ParentEd | Avg.Reading.ParentEd | Avg.Writing.ParentEd | \n",
       "|---|---|---|---|---|---|\n",
       "| associate's degree | 67.88 %            | 70.93 %            | 69.90 %            | \n",
       "| bachelor's degree  | 69.39 %            | 73.00 %            | 73.38 %            | \n",
       "| high school        | 62.14 %            | 64.70 %            | 62.45 %            | \n",
       "| master's degree    | 69.75 %            | 75.37 %            | 75.68 %            | \n",
       "| some college       | 67.13 %            | 69.46 %            | 68.84 %            | \n",
       "| some high school   | 63.50 %            | 66.94 %            | 64.89 %            | \n",
       "\n",
       "\n"
      ],
      "text/plain": [
       "  parental.level.of.education Avg.Math.ParentEd Avg.Reading.ParentEd\n",
       "1 associate's degree          67.88 %           70.93 %             \n",
       "2 bachelor's degree           69.39 %           73.00 %             \n",
       "3 high school                 62.14 %           64.70 %             \n",
       "4 master's degree             69.75 %           75.37 %             \n",
       "5 some college                67.13 %           69.46 %             \n",
       "6 some high school            63.50 %           66.94 %             \n",
       "  Avg.Writing.ParentEd\n",
       "1 69.90 %             \n",
       "2 73.38 %             \n",
       "3 62.45 %             \n",
       "4 75.68 %             \n",
       "5 68.84 %             \n",
       "6 64.89 %             "
      ]
     },
     "metadata": {},
     "output_type": "display_data"
    }
   ],
   "source": [
    "parentedscores<-df %>% group_by(parental.level.of.education)\n",
    "parentedscores<-parentedscores %>% summarise(\n",
    "  Avg.Math.ParentEd = mean(math.score),\n",
    "  Avg.Reading.ParentEd = mean(reading.score),\n",
    "  Avg.Writing.ParentEd = mean(writing.score)\n",
    ")\n",
    "parentedscores$Avg.Math.ParentEd<-format(round(parentedscores$Avg.Math.ParentEd, 2), nsmall = 2)\n",
    "parentedscores$Avg.Reading.ParentEd<-format(round(parentedscores$Avg.Reading.ParentEd, 2), nsmall = 2)\n",
    "parentedscores$Avg.Writing.ParentEd<-format(round(parentedscores$Avg.Writing.ParentEd, 2), nsmall = 2)\n",
    "parentedscores$Avg.Math.ParentEd<- paste(as.character(parentedscores$Avg.Math.ParentEd), '%', '')\n",
    "parentedscores$Avg.Reading.ParentEd<- paste(as.character(parentedscores$Avg.Reading.ParentEd), '%', '')\n",
    "parentedscores$Avg.Writing.ParentEd<- paste(as.character(parentedscores$Avg.Writing.ParentEd), '%', '')\n",
    "parentedscores"
   ]
  },
  {
   "cell_type": "code",
   "execution_count": 24,
   "metadata": {},
   "outputs": [
    {
     "data": {
      "text/html": [
       "<table>\n",
       "<thead><tr><th scope=col>gender</th><th scope=col>Avg.Math.Gender</th><th scope=col>Avg.Reading.Gender</th><th scope=col>Avg.Writing.Gender</th></tr></thead>\n",
       "<tbody>\n",
       "\t<tr><td>female  </td><td>63.63 % </td><td>72.61 % </td><td>72.47 % </td></tr>\n",
       "\t<tr><td>male    </td><td>68.73 % </td><td>65.47 % </td><td>63.31 % </td></tr>\n",
       "</tbody>\n",
       "</table>\n"
      ],
      "text/latex": [
       "\\begin{tabular}{r|llll}\n",
       " gender & Avg.Math.Gender & Avg.Reading.Gender & Avg.Writing.Gender\\\\\n",
       "\\hline\n",
       "\t female     & 63.63 \\%  & 72.61 \\%  & 72.47 \\% \\\\\n",
       "\t male       & 68.73 \\%  & 65.47 \\%  & 63.31 \\% \\\\\n",
       "\\end{tabular}\n"
      ],
      "text/markdown": [
       "\n",
       "gender | Avg.Math.Gender | Avg.Reading.Gender | Avg.Writing.Gender | \n",
       "|---|---|\n",
       "| female   | 63.63 %  | 72.61 %  | 72.47 %  | \n",
       "| male     | 68.73 %  | 65.47 %  | 63.31 %  | \n",
       "\n",
       "\n"
      ],
      "text/plain": [
       "  gender Avg.Math.Gender Avg.Reading.Gender Avg.Writing.Gender\n",
       "1 female 63.63 %         72.61 %            72.47 %           \n",
       "2 male   68.73 %         65.47 %            63.31 %           "
      ]
     },
     "metadata": {},
     "output_type": "display_data"
    }
   ],
   "source": [
    "genderscores<-df %>% group_by(gender)\n",
    "genderscores<-genderscores %>% summarise(\n",
    "  Avg.Math.Gender = mean(math.score),\n",
    "  Avg.Reading.Gender = mean(reading.score),\n",
    "  Avg.Writing.Gender = mean(writing.score)\n",
    ")\n",
    "\n",
    "genderscores$Avg.Math.Gender<-format(round(genderscores$Avg.Math.Gender, 2), nsmall = 2)\n",
    "genderscores$Avg.Reading.Gender<-format(round(genderscores$Avg.Reading.Gender, 2), nsmall = 2)\n",
    "genderscores$Avg.Writing.Gender<-format(round(genderscores$Avg.Writing.Gender, 2), nsmall = 2)\n",
    "genderscores$Avg.Math.Gender<- paste(as.character(genderscores$Avg.Math.Gender), '%', '')\n",
    "genderscores$Avg.Reading.Gender<- paste(as.character(genderscores$Avg.Reading.Gender), '%', '')\n",
    "genderscores$Avg.Writing.Gender<- paste(as.character(genderscores$Avg.Writing.Gender), '%', '')\n",
    "genderscores"
   ]
  },
  {
   "cell_type": "markdown",
   "metadata": {},
   "source": [
    "* Females on average did better in reading (~72.6%) and writing (~72.5%) while men did better in math (~68.7% vs ~63.6%).  "
   ]
  },
  {
   "cell_type": "markdown",
   "metadata": {},
   "source": [
    "<hr>"
   ]
  },
  {
   "cell_type": "code",
   "execution_count": 25,
   "metadata": {},
   "outputs": [],
   "source": [
    "df=df %>% mutate_if(is.character, as.factor)"
   ]
  },
  {
   "cell_type": "code",
   "execution_count": 26,
   "metadata": {},
   "outputs": [
    {
     "data": {
      "text/html": [
       "<table>\n",
       "<thead><tr><th scope=col>gender</th><th scope=col>race.ethnicity</th><th scope=col>parental.level.of.education</th><th scope=col>lunch</th><th scope=col>test.preparation.course</th><th scope=col>math.score</th><th scope=col>reading.score</th><th scope=col>writing.score</th></tr></thead>\n",
       "<tbody>\n",
       "\t<tr><td>female            </td><td>group B           </td><td>bachelor's degree </td><td>standard          </td><td>none              </td><td>72                </td><td>72                </td><td>74                </td></tr>\n",
       "\t<tr><td>female            </td><td>group C           </td><td>some college      </td><td>standard          </td><td>completed         </td><td>69                </td><td>90                </td><td>88                </td></tr>\n",
       "\t<tr><td>female            </td><td>group B           </td><td>master's degree   </td><td>standard          </td><td>none              </td><td>90                </td><td>95                </td><td>93                </td></tr>\n",
       "\t<tr><td>male              </td><td>group A           </td><td>associate's degree</td><td>free/reduced      </td><td>none              </td><td>47                </td><td>57                </td><td>44                </td></tr>\n",
       "\t<tr><td>male              </td><td>group C           </td><td>some college      </td><td>standard          </td><td>none              </td><td>76                </td><td>78                </td><td>75                </td></tr>\n",
       "\t<tr><td>female            </td><td>group B           </td><td>associate's degree</td><td>standard          </td><td>none              </td><td>71                </td><td>83                </td><td>78                </td></tr>\n",
       "</tbody>\n",
       "</table>\n"
      ],
      "text/latex": [
       "\\begin{tabular}{r|llllllll}\n",
       " gender & race.ethnicity & parental.level.of.education & lunch & test.preparation.course & math.score & reading.score & writing.score\\\\\n",
       "\\hline\n",
       "\t female             & group B            & bachelor's degree  & standard           & none               & 72                 & 72                 & 74                \\\\\n",
       "\t female             & group C            & some college       & standard           & completed          & 69                 & 90                 & 88                \\\\\n",
       "\t female             & group B            & master's degree    & standard           & none               & 90                 & 95                 & 93                \\\\\n",
       "\t male               & group A            & associate's degree & free/reduced       & none               & 47                 & 57                 & 44                \\\\\n",
       "\t male               & group C            & some college       & standard           & none               & 76                 & 78                 & 75                \\\\\n",
       "\t female             & group B            & associate's degree & standard           & none               & 71                 & 83                 & 78                \\\\\n",
       "\\end{tabular}\n"
      ],
      "text/markdown": [
       "\n",
       "gender | race.ethnicity | parental.level.of.education | lunch | test.preparation.course | math.score | reading.score | writing.score | \n",
       "|---|---|---|---|---|---|\n",
       "| female             | group B            | bachelor's degree  | standard           | none               | 72                 | 72                 | 74                 | \n",
       "| female             | group C            | some college       | standard           | completed          | 69                 | 90                 | 88                 | \n",
       "| female             | group B            | master's degree    | standard           | none               | 90                 | 95                 | 93                 | \n",
       "| male               | group A            | associate's degree | free/reduced       | none               | 47                 | 57                 | 44                 | \n",
       "| male               | group C            | some college       | standard           | none               | 76                 | 78                 | 75                 | \n",
       "| female             | group B            | associate's degree | standard           | none               | 71                 | 83                 | 78                 | \n",
       "\n",
       "\n"
      ],
      "text/plain": [
       "  gender race.ethnicity parental.level.of.education lunch       \n",
       "1 female group B        bachelor's degree           standard    \n",
       "2 female group C        some college                standard    \n",
       "3 female group B        master's degree             standard    \n",
       "4 male   group A        associate's degree          free/reduced\n",
       "5 male   group C        some college                standard    \n",
       "6 female group B        associate's degree          standard    \n",
       "  test.preparation.course math.score reading.score writing.score\n",
       "1 none                    72         72            74           \n",
       "2 completed               69         90            88           \n",
       "3 none                    90         95            93           \n",
       "4 none                    47         57            44           \n",
       "5 none                    76         78            75           \n",
       "6 none                    71         83            78           "
      ]
     },
     "metadata": {},
     "output_type": "display_data"
    }
   ],
   "source": [
    "head(df)"
   ]
  },
  {
   "cell_type": "markdown",
   "metadata": {},
   "source": [
    "Random Forest"
   ]
  },
  {
   "cell_type": "code",
   "execution_count": 27,
   "metadata": {},
   "outputs": [],
   "source": [
    "rf<-randomForest(formula=math.score~gender+race.ethnicity+parental.level.of.education+lunch+test.preparation.course, data=df)"
   ]
  },
  {
   "cell_type": "code",
   "execution_count": 28,
   "metadata": {},
   "outputs": [
    {
     "data": {
      "image/png": "[encoded data removed]",
      "text/plain": [
       "Plot with title \"rf\""
      ]
     },
     "metadata": {},
     "output_type": "display_data"
    }
   ],
   "source": [
    "plot(rf)"
   ]
  },
  {
   "cell_type": "code",
   "execution_count": 29,
   "metadata": {},
   "outputs": [
    {
     "data": {
      "image/png": "[encoded data removed]",
      "text/plain": [
       "Plot with title \"rf\""
      ]
     },
     "metadata": {},
     "output_type": "display_data"
    }
   ],
   "source": [
    "varImpPlot(rf)"
   ]
  },
  {
   "cell_type": "markdown",
   "metadata": {},
   "source": [
    "The lunch plan seems the most important followed by race, parental level of education, test prep course, and gender for math scores.  "
   ]
  },
  {
   "cell_type": "code",
   "execution_count": 30,
   "metadata": {},
   "outputs": [],
   "source": [
    "rfread<-randomForest(formula=reading.score~gender+race.ethnicity+parental.level.of.education+lunch+test.preparation.course, data=df)"
   ]
  },
  {
   "cell_type": "code",
   "execution_count": 31,
   "metadata": {},
   "outputs": [
    {
     "data": {
      "image/png": "[encoded data removed]",
      "text/plain": [
       "Plot with title \"rfread\""
      ]
     },
     "metadata": {},
     "output_type": "display_data"
    }
   ],
   "source": [
    "varImpPlot(rfread)"
   ]
  },
  {
   "cell_type": "markdown",
   "metadata": {},
   "source": [
    "For the reading score, gender comes up the most significant followed by test prep course, lunch, parental levelof education, and ethnicity."
   ]
  },
  {
   "cell_type": "code",
   "execution_count": 32,
   "metadata": {},
   "outputs": [],
   "source": [
    "rfwrit<-randomForest(formula=writing.score~gender+race.ethnicity+parental.level.of.education+lunch+test.preparation.course, data=df)"
   ]
  },
  {
   "cell_type": "code",
   "execution_count": 33,
   "metadata": {},
   "outputs": [
    {
     "data": {
      "image/png": "[encoded data removed]",
      "text/plain": [
       "Plot with title \"rfwrit\""
      ]
     },
     "metadata": {},
     "output_type": "display_data"
    }
   ],
   "source": [
    "varImpPlot(rfwrit)"
   ]
  },
  {
   "cell_type": "markdown",
   "metadata": {},
   "source": [
    "For the writing score, the test prep score comes up most significant followed by gender, lunch, parental level of education, and ethnicity"
   ]
  }
 ],
 "metadata": {
  "kernelspec": {
   "display_name": "R",
   "language": "R",
   "name": "ir"
  },
  "language_info": {
   "codemirror_mode": "r",
   "file_extension": ".r",
   "mimetype": "text/x-r-source",
   "name": "R",
   "pygments_lexer": "r",
   "version": "3.4.3"
  }
 },
 "nbformat": 4,
 "nbformat_minor": 2
}
